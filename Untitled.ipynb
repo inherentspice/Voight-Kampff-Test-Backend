{
 "cells": [
  {
   "cell_type": "code",
   "execution_count": 16,
   "id": "a3f9169c",
   "metadata": {},
   "outputs": [
    {
     "ename": "ModuleNotFoundError",
     "evalue": "No module named 'gpt_2_simple'",
     "output_type": "error",
     "traceback": [
      "\u001b[0;31m---------------------------------------------------------------------------\u001b[0m",
      "\u001b[0;31mModuleNotFoundError\u001b[0m                       Traceback (most recent call last)",
      "\u001b[0;32m/var/folders/qb/lc2rtqnd7630lpm3f134f4b40000gn/T/ipykernel_26625/2424036924.py\u001b[0m in \u001b[0;36m<module>\u001b[0;34m\u001b[0m\n\u001b[1;32m      3\u001b[0m \u001b[0;32mfrom\u001b[0m \u001b[0mfastapi\u001b[0m\u001b[0;34m.\u001b[0m\u001b[0mmiddleware\u001b[0m\u001b[0;34m.\u001b[0m\u001b[0mcors\u001b[0m \u001b[0;32mimport\u001b[0m \u001b[0mCORSMiddleware\u001b[0m\u001b[0;34m\u001b[0m\u001b[0;34m\u001b[0m\u001b[0m\n\u001b[1;32m      4\u001b[0m \u001b[0;32mimport\u001b[0m \u001b[0mnumpy\u001b[0m \u001b[0;32mas\u001b[0m \u001b[0mnp\u001b[0m\u001b[0;34m\u001b[0m\u001b[0;34m\u001b[0m\u001b[0m\n\u001b[0;32m----> 5\u001b[0;31m \u001b[0;32mfrom\u001b[0m \u001b[0mVoightKampffTestBackend\u001b[0m \u001b[0;32mimport\u001b[0m \u001b[0mresponse_generator\u001b[0m\u001b[0;34m\u001b[0m\u001b[0;34m\u001b[0m\u001b[0m\n\u001b[0m",
      "\u001b[0;32m~/code/inherentspice/Voight-Kampff-Test-Backend/VoightKampffTestBackend/response_generator.py\u001b[0m in \u001b[0;36m<module>\u001b[0;34m\u001b[0m\n\u001b[0;32m----> 1\u001b[0;31m \u001b[0;32mimport\u001b[0m \u001b[0mgpt_2_simple\u001b[0m \u001b[0;32mas\u001b[0m \u001b[0mgpt2\u001b[0m\u001b[0;34m\u001b[0m\u001b[0;34m\u001b[0m\u001b[0m\n\u001b[0m\u001b[1;32m      2\u001b[0m \u001b[0;32mimport\u001b[0m \u001b[0mos\u001b[0m\u001b[0;34m\u001b[0m\u001b[0;34m\u001b[0m\u001b[0m\n\u001b[1;32m      3\u001b[0m \u001b[0;32mimport\u001b[0m \u001b[0mrequests\u001b[0m\u001b[0;34m\u001b[0m\u001b[0;34m\u001b[0m\u001b[0m\n\u001b[1;32m      4\u001b[0m \u001b[0;32mimport\u001b[0m \u001b[0mtensorflow\u001b[0m \u001b[0;32mas\u001b[0m \u001b[0mtf\u001b[0m\u001b[0;34m\u001b[0m\u001b[0;34m\u001b[0m\u001b[0m\n\u001b[1;32m      5\u001b[0m \u001b[0;34m\u001b[0m\u001b[0m\n",
      "\u001b[0;31mModuleNotFoundError\u001b[0m: No module named 'gpt_2_simple'"
     ]
    }
   ],
   "source": [
    "import numpy as np\n",
    "from fastapi import FastAPI\n",
    "from fastapi.middleware.cors import CORSMiddleware\n",
    "import numpy as np\n",
    "from VoightKampffTestBackend import response_generator"
   ]
  },
  {
   "cell_type": "code",
   "execution_count": 17,
   "id": "093fe159",
   "metadata": {},
   "outputs": [],
   "source": [
    "def question():\n",
    "    random_int = np.random.randint(1, 9)\n",
    "    questions = {1: \"Every country is an animal. What animal is your country?\",\n",
    "                 2: \"If you could have the answer to one question, what would it be?\",\n",
    "                 3: \"The Supreme Court has overturned roe vs Wade. How do you feel?\",\n",
    "                 4: \"What improved your quality of life so much, you wish you did it sooner?\",\n",
    "                 5: \"What's a weird thing you think only you do?\",\n",
    "                 6: \"What's the worst alcoholic beverage?\",\n",
    "                 7: \"Without saying the name, what's your favourite video game?\",\n",
    "                 8: \"You can get the attention of the whole planet, but only for ten seconds. What do you say?\",\n",
    "                 9: \"You wake up tomorrow with Jeff Bezo's current net worth ($209 Billion USD). What do you do?\"}\n",
    "\n",
    "    return {\"question\": questions.get(random_int)}"
   ]
  },
  {
   "cell_type": "code",
   "execution_count": 18,
   "id": "95792bcc",
   "metadata": {},
   "outputs": [
    {
     "data": {
      "text/plain": [
       "{'question': 'What improved your quality of life so much, you wish you did it sooner?'}"
      ]
     },
     "execution_count": 18,
     "metadata": {},
     "output_type": "execute_result"
    }
   ],
   "source": [
    "question()"
   ]
  },
  {
   "cell_type": "code",
   "execution_count": 21,
   "id": "eb103edb",
   "metadata": {},
   "outputs": [],
   "source": [
    "def response(question):\n",
    "    sess = response_generator.Response().get_model()\n",
    "    answer = response_generator.Response().get_response(sess=sess, prompt=question)\n",
    "    return {\"response\": answer}"
   ]
  },
  {
   "cell_type": "code",
   "execution_count": 20,
   "id": "56960876",
   "metadata": {},
   "outputs": [
    {
     "ename": "NameError",
     "evalue": "name 'response_generator' is not defined",
     "output_type": "error",
     "traceback": [
      "\u001b[0;31m---------------------------------------------------------------------------\u001b[0m",
      "\u001b[0;31mNameError\u001b[0m                                 Traceback (most recent call last)",
      "\u001b[0;32m/var/folders/qb/lc2rtqnd7630lpm3f134f4b40000gn/T/ipykernel_26625/3660448246.py\u001b[0m in \u001b[0;36m<module>\u001b[0;34m\u001b[0m\n\u001b[0;32m----> 1\u001b[0;31m \u001b[0mresponse\u001b[0m\u001b[0;34m(\u001b[0m\u001b[0mquestion\u001b[0m\u001b[0;34m(\u001b[0m\u001b[0;34m)\u001b[0m\u001b[0;34m)\u001b[0m\u001b[0;34m\u001b[0m\u001b[0;34m\u001b[0m\u001b[0m\n\u001b[0m",
      "\u001b[0;32m/var/folders/qb/lc2rtqnd7630lpm3f134f4b40000gn/T/ipykernel_26625/2809716128.py\u001b[0m in \u001b[0;36mresponse\u001b[0;34m(question)\u001b[0m\n\u001b[1;32m      1\u001b[0m \u001b[0;32mdef\u001b[0m \u001b[0mresponse\u001b[0m\u001b[0;34m(\u001b[0m\u001b[0mquestion\u001b[0m\u001b[0;34m)\u001b[0m\u001b[0;34m:\u001b[0m\u001b[0;34m\u001b[0m\u001b[0;34m\u001b[0m\u001b[0m\n\u001b[0;32m----> 2\u001b[0;31m     \u001b[0msess\u001b[0m \u001b[0;34m=\u001b[0m \u001b[0mresponse_generator\u001b[0m\u001b[0;34m.\u001b[0m\u001b[0mResponse\u001b[0m\u001b[0;34m(\u001b[0m\u001b[0;34m)\u001b[0m\u001b[0;34m.\u001b[0m\u001b[0mget_model\u001b[0m\u001b[0;34m(\u001b[0m\u001b[0;34m)\u001b[0m\u001b[0;34m\u001b[0m\u001b[0;34m\u001b[0m\u001b[0m\n\u001b[0m\u001b[1;32m      3\u001b[0m     \u001b[0manswer\u001b[0m \u001b[0;34m=\u001b[0m \u001b[0mresponse_generator\u001b[0m\u001b[0;34m.\u001b[0m\u001b[0mResponse\u001b[0m\u001b[0;34m(\u001b[0m\u001b[0;34m)\u001b[0m\u001b[0;34m.\u001b[0m\u001b[0mget_response\u001b[0m\u001b[0;34m(\u001b[0m\u001b[0msess\u001b[0m\u001b[0;34m=\u001b[0m\u001b[0msess\u001b[0m\u001b[0;34m,\u001b[0m \u001b[0mprompt\u001b[0m\u001b[0;34m=\u001b[0m\u001b[0mquestion\u001b[0m\u001b[0;34m)\u001b[0m\u001b[0;34m\u001b[0m\u001b[0;34m\u001b[0m\u001b[0m\n\u001b[1;32m      4\u001b[0m     \u001b[0;32mreturn\u001b[0m \u001b[0;34m{\u001b[0m\u001b[0;34m\"response\"\u001b[0m\u001b[0;34m:\u001b[0m \u001b[0manswer\u001b[0m\u001b[0;34m}\u001b[0m\u001b[0;34m\u001b[0m\u001b[0;34m\u001b[0m\u001b[0m\n",
      "\u001b[0;31mNameError\u001b[0m: name 'response_generator' is not defined"
     ]
    }
   ],
   "source": [
    "response(question())"
   ]
  },
  {
   "cell_type": "code",
   "execution_count": 29,
   "id": "4879c555",
   "metadata": {},
   "outputs": [
    {
     "name": "stdout",
     "output_type": "stream",
     "text": [
      " We need to go to the moon!\"\n",
      "\n",
      "A woman, probably a young woman, said, \"Aha! How can you be so mean\n"
     ]
    }
   ],
   "source": [
    "string = \"kill me? We need to go to the moon!\\\"\\n\\nA woman, probably a young woman, said, \\\"Aha! How can you be so mean\"\n",
    "print(string.rpartition('?')[2])"
   ]
  },
  {
   "cell_type": "code",
   "execution_count": 23,
   "id": "d4445202",
   "metadata": {},
   "outputs": [
    {
     "name": "stdout",
     "output_type": "stream",
     "text": [
      "\n"
     ]
    }
   ],
   "source": []
  },
  {
   "cell_type": "code",
   "execution_count": null,
   "id": "c051922a",
   "metadata": {},
   "outputs": [],
   "source": []
  }
 ],
 "metadata": {
  "kernelspec": {
   "display_name": "Python 3 (ipykernel)",
   "language": "python",
   "name": "python3"
  },
  "language_info": {
   "codemirror_mode": {
    "name": "ipython",
    "version": 3
   },
   "file_extension": ".py",
   "mimetype": "text/x-python",
   "name": "python",
   "nbconvert_exporter": "python",
   "pygments_lexer": "ipython3",
   "version": "3.8.12"
  },
  "toc": {
   "base_numbering": 1,
   "nav_menu": {},
   "number_sections": true,
   "sideBar": true,
   "skip_h1_title": false,
   "title_cell": "Table of Contents",
   "title_sidebar": "Contents",
   "toc_cell": false,
   "toc_position": {},
   "toc_section_display": true,
   "toc_window_display": false
  }
 },
 "nbformat": 4,
 "nbformat_minor": 5
}
