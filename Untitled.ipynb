{
 "cells": [
  {
   "cell_type": "code",
   "execution_count": 11,
   "id": "8cb6c93e",
   "metadata": {},
   "outputs": [],
   "source": [
    "import pandas as pd"
   ]
  },
  {
   "cell_type": "code",
   "execution_count": 12,
   "id": "ceeb5ec3",
   "metadata": {},
   "outputs": [],
   "source": [
    "df = pd.read_csv ('raw_data/Whats_a_job_thats_romanticized_but_in_reality_sucks?_all.csv')"
   ]
  },
  {
   "cell_type": "code",
   "execution_count": 13,
   "id": "fd92e97a",
   "metadata": {},
   "outputs": [
    {
     "data": {
      "text/html": [
       "<div>\n",
       "<style scoped>\n",
       "    .dataframe tbody tr th:only-of-type {\n",
       "        vertical-align: middle;\n",
       "    }\n",
       "\n",
       "    .dataframe tbody tr th {\n",
       "        vertical-align: top;\n",
       "    }\n",
       "\n",
       "    .dataframe thead th {\n",
       "        text-align: right;\n",
       "    }\n",
       "</style>\n",
       "<table border=\"1\" class=\"dataframe\">\n",
       "  <thead>\n",
       "    <tr style=\"text-align: right;\">\n",
       "      <th></th>\n",
       "      <th>Unnamed: 0</th>\n",
       "      <th>Answer</th>\n",
       "    </tr>\n",
       "  </thead>\n",
       "  <tbody>\n",
       "    <tr>\n",
       "      <th>0</th>\n",
       "      <td>0</td>\n",
       "      <td>I strongly suspect being a Spy doesn't involve...</td>\n",
       "    </tr>\n",
       "    <tr>\n",
       "      <th>1</th>\n",
       "      <td>1</td>\n",
       "      <td>Anything in modern-day publishing. How many te...</td>\n",
       "    </tr>\n",
       "    <tr>\n",
       "      <th>2</th>\n",
       "      <td>2</td>\n",
       "      <td>Game tester.\\n\\nI worked as a game tester for ...</td>\n",
       "    </tr>\n",
       "    <tr>\n",
       "      <th>3</th>\n",
       "      <td>3</td>\n",
       "      <td>Archaeologist, specifically field archaeology....</td>\n",
       "    </tr>\n",
       "    <tr>\n",
       "      <th>4</th>\n",
       "      <td>4</td>\n",
       "      <td>From what I've understood, being a cowboy was ...</td>\n",
       "    </tr>\n",
       "    <tr>\n",
       "      <th>...</th>\n",
       "      <td>...</td>\n",
       "      <td>...</td>\n",
       "    </tr>\n",
       "    <tr>\n",
       "      <th>495</th>\n",
       "      <td>495</td>\n",
       "      <td>Haha man those NDAs are brutal too on some of ...</td>\n",
       "    </tr>\n",
       "    <tr>\n",
       "      <th>496</th>\n",
       "      <td>496</td>\n",
       "      <td>didnt really take that long either..</td>\n",
       "    </tr>\n",
       "    <tr>\n",
       "      <th>497</th>\n",
       "      <td>497</td>\n",
       "      <td>yeah it sucks.  We dropped a dog off for a sur...</td>\n",
       "    </tr>\n",
       "    <tr>\n",
       "      <th>498</th>\n",
       "      <td>498</td>\n",
       "      <td>If you’re in the States, your location SPCA li...</td>\n",
       "    </tr>\n",
       "    <tr>\n",
       "      <th>499</th>\n",
       "      <td>499</td>\n",
       "      <td>We got pet insurance for my dog.  It was my wi...</td>\n",
       "    </tr>\n",
       "  </tbody>\n",
       "</table>\n",
       "<p>500 rows × 2 columns</p>\n",
       "</div>"
      ],
      "text/plain": [
       "     Unnamed: 0                                             Answer\n",
       "0             0  I strongly suspect being a Spy doesn't involve...\n",
       "1             1  Anything in modern-day publishing. How many te...\n",
       "2             2  Game tester.\\n\\nI worked as a game tester for ...\n",
       "3             3  Archaeologist, specifically field archaeology....\n",
       "4             4  From what I've understood, being a cowboy was ...\n",
       "..          ...                                                ...\n",
       "495         495  Haha man those NDAs are brutal too on some of ...\n",
       "496         496               didnt really take that long either..\n",
       "497         497  yeah it sucks.  We dropped a dog off for a sur...\n",
       "498         498  If you’re in the States, your location SPCA li...\n",
       "499         499  We got pet insurance for my dog.  It was my wi...\n",
       "\n",
       "[500 rows x 2 columns]"
      ]
     },
     "execution_count": 13,
     "metadata": {},
     "output_type": "execute_result"
    }
   ],
   "source": [
    "df"
   ]
  },
  {
   "cell_type": "code",
   "execution_count": 1,
   "id": "cccd09f8",
   "metadata": {},
   "outputs": [],
   "source": [
    "class Response:\n",
    "    '''\n",
    "    DataFrames containing all orders as index,\n",
    "    and various properties of these orders as columns\n",
    "    '''\n",
    "    def __init__(self):\n",
    "        # Assign an attribute \".data\" to all new instances\n",
    "        self.data = df.get_data() #\"Olist\" will be replaced by the dataframe once the csv file is created\n",
    "\n",
    "    def get_response(self):\n",
    "        \"\"\"\n",
    "        Returns a DataFrame with:\n",
    "        [responses]\n",
    "        and filters out non-delivered orders unless specified\n",
    "        \"\"\"\n",
    "        # Hint: Within this instance method, you have access to the instance of the class Question in the variable self, as well as all its attributes\n",
    "        # make sure to create a copy rather than a \"view\"\n",
    "        responses = self.data['Answer'].copy()"
   ]
  },
  {
   "cell_type": "code",
   "execution_count": 14,
   "id": "efe04fc5-236b-469b-8bcc-e834d23bc6b2",
   "metadata": {},
   "outputs": [],
   "source": [
    "def __init__(self):\n",
    "    # Assign an attribute \".data\" to all new instances\n",
    "    self.data = df.get_data() #\"Olist\" will be replaced by the dataframe once the csv file is created\n"
   ]
  },
  {
   "cell_type": "code",
   "execution_count": 23,
   "id": "4266e170-cf03-4681-a871-a34c19f197cf",
   "metadata": {},
   "outputs": [],
   "source": [
    "responses = df['Answer']"
   ]
  },
  {
   "cell_type": "code",
   "execution_count": 24,
   "id": "b3d402b7-6b3c-41da-b818-ecc419606814",
   "metadata": {},
   "outputs": [
    {
     "data": {
      "text/plain": [
       "0      I strongly suspect being a Spy doesn't involve...\n",
       "1      Anything in modern-day publishing. How many te...\n",
       "2      Game tester.\\n\\nI worked as a game tester for ...\n",
       "3      Archaeologist, specifically field archaeology....\n",
       "4      From what I've understood, being a cowboy was ...\n",
       "                             ...                        \n",
       "495    Haha man those NDAs are brutal too on some of ...\n",
       "496                 didnt really take that long either..\n",
       "497    yeah it sucks.  We dropped a dog off for a sur...\n",
       "498    If you’re in the States, your location SPCA li...\n",
       "499    We got pet insurance for my dog.  It was my wi...\n",
       "Name: Answer, Length: 500, dtype: object"
      ]
     },
     "execution_count": 24,
     "metadata": {},
     "output_type": "execute_result"
    }
   ],
   "source": [
    "responses\n"
   ]
  },
  {
   "cell_type": "code",
   "execution_count": 26,
   "id": "b04d9362-24c6-49c9-8b63-a059d58d1aab",
   "metadata": {},
   "outputs": [],
   "source": [
    "\n",
    "class Response:\n",
    "    '''\n",
    "    DataFrames containing all orders as index,\n",
    "    and various properties of these orders as columns\n",
    "    '''\n",
    "    def __init__(self):\n",
    "        # Assign an attribute \".data\" to all new instances\n",
    "        self.data = df['Answer'].get_data() #\"Olist\" will be replaced by the dataframe once the csv file is created\n",
    "\n",
    "    def get_response(self):\n",
    "        \"\"\"\n",
    "        Returns a DataFrame with:\n",
    "        [responses]\n",
    "        and filters out non-delivered orders unless specified\n",
    "        \"\"\"\n",
    "        # Hint: Within this instance method, you have access to the instance of the class Question in the variable self, as well as all its attributes\n",
    "        # make sure to create a copy rather than a \"view\"\n",
    "        responses = self.data['Answer'].copy()\n",
    "        return responses"
   ]
  },
  {
   "cell_type": "code",
   "execution_count": null,
   "id": "c4ce968c-d3c7-437d-9dd1-f8a5b74743b0",
   "metadata": {},
   "outputs": [],
   "source": []
  }
 ],
 "metadata": {
  "kernelspec": {
   "display_name": "Python 3 (ipykernel)",
   "language": "python",
   "name": "python3"
  },
  "language_info": {
   "codemirror_mode": {
    "name": "ipython",
    "version": 3
   },
   "file_extension": ".py",
   "mimetype": "text/x-python",
   "name": "python",
   "nbconvert_exporter": "python",
   "pygments_lexer": "ipython3",
   "version": "3.8.12"
  },
  "toc": {
   "base_numbering": 1,
   "nav_menu": {},
   "number_sections": true,
   "sideBar": true,
   "skip_h1_title": false,
   "title_cell": "Table of Contents",
   "title_sidebar": "Contents",
   "toc_cell": false,
   "toc_position": {},
   "toc_section_display": true,
   "toc_window_display": false
  }
 },
 "nbformat": 4,
 "nbformat_minor": 5
}
